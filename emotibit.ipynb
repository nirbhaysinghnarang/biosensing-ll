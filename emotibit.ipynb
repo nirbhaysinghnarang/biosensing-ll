{
 "cells": [
  {
   "cell_type": "code",
   "execution_count": null,
   "metadata": {},
   "outputs": [],
   "source": [
    "import csv\n",
    "import pandas as pd\n",
    "\n",
    "file_slug = \"emotibit/2024-09-18_19-22-45-878863\"\n",
    "\n",
    "data_pts = [\n",
    "    \"EA\",  # EDA Activity, because why say three words when two letters will do?\n",
    "    \"EL\",  # EDL - Electrodermal Level, because we're too cool for full names.\n",
    "    \"ER\",  # EDR- Electrodermal Response, because brevity is the soul of wit.\n",
    "    \"PI\",  # PPG Infrared, because who doesn't love a good acronym?\n",
    "    \"PR\",  # PPG Red, because red is faster, obviously.\n",
    "    \"PG\",  # PPG Green, because green means go.\n",
    "    \"T0\",  # Temperature (Vintage Edition), for those who love the classics.\n",
    "    \"T1\",  # Temperature, because we needed a sequel.\n",
    "    \"SA\",  # Skin Conductance Response (SCR) Amplitude, because we like our responses amped up.\n",
    "    \"SR\",  # Skin Conductance Response (SCR) Rise Time, because every response needs a good buildup.\n",
    "    \"SF\",  # Skin Conductance Response (SCR) Frequency, because we're all about that frequency.\n",
    "    \"HR\",  # Heart rate, because at the end of the day, it's all about love.\n",
    "]\n",
    "\n",
    "\n"
   ]
  }
 ],
 "metadata": {
  "language_info": {
   "name": "python"
  }
 },
 "nbformat": 4,
 "nbformat_minor": 2
}
